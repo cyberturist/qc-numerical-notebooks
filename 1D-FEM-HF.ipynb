{
 "cells": [
  {
   "cell_type": "code",
   "execution_count": 43,
   "metadata": {
    "pycharm": {
     "name": "#%%\n"
    }
   },
   "outputs": [],
   "source": [
    "%matplotlib inline"
   ]
  },
  {
   "cell_type": "markdown",
   "source": [
    "# Hartree–Fock in 1D Using FEM with Lagrange Polynomials on Gauss–Lobatto Nodes\n",
    "\n",
    "Each finite element is defined in the local coordinate system $\\xi \\in [-1, 1]$.\n",
    "Using Gauss–Lobatto–Legendre (GLL) quadrature, integrals are approximated over $N$ nodes as:\n",
    "\n",
    "$$\n",
    "\\int_{-1}^{1} f(\\xi)\\, d\\xi \\;\\approx\\; \\sum_{i=0}^{N-1} w_i\\, f(\\xi_i),\n",
    "$$\n",
    "\n",
    "where $\\xi_i, w_i$ are the GLL nodes and weights corresponding to a polynomial of degree $N - 1$.\n",
    "The routines below generate these pairs.\n",
    "## Routines to generate GLL nodes and weights\n",
    "\n",
    "### 1. Fast NumPy version"
   ],
   "metadata": {
    "collapsed": false,
    "pycharm": {
     "name": "#%% md\n"
    }
   }
  },
  {
   "cell_type": "code",
   "execution_count": 44,
   "outputs": [],
   "source": [
    "import numpy as np\n",
    "from numpy.polynomial.legendre import Legendre\n",
    "\n",
    "def GLL_nodes_weights_numpy(N):\n",
    "    \"\"\"Gauss–Lobatto–Legendre nodes x and weights w on (-1,1) obtained with numpy.\n",
    "    N : int   – number of nodes (>=2)\n",
    "    \"\"\"\n",
    "    P = Legendre.basis(N - 1)\n",
    "    xi = P.deriv().roots()\n",
    "    x  = np.hstack((-1.0, xi, 1.0))\n",
    "    w0 = 2 / (N * (N - 1))\n",
    "    w  = np.hstack((w0, 2 / (N * (N - 1) * P(xi)**2), w0))\n",
    "    return x, w"
   ],
   "metadata": {
    "collapsed": false,
    "pycharm": {
     "name": "#%%\n"
    }
   }
  },
  {
   "cell_type": "markdown",
   "source": [
    "### 2. Custom version based on Newton–Raphson method with user‑defined tolerance"
   ],
   "metadata": {
    "collapsed": false,
    "pycharm": {
     "name": "#%% md\n"
    }
   }
  },
  {
   "cell_type": "code",
   "execution_count": 45,
   "outputs": [],
   "source": [
    "def GLL_nodes_weights_custom(N, tol=1e-6, max_iter=50):\n",
    "    \"\"\"\n",
    "    Gauss–Lobatto–Legendre nodes and weights on (-1, 1) obtained with specified tolerance.\n",
    "\n",
    "    N : int   – number of nodes (>=2)\n",
    "    tol : float – convergence tolerance for Newton iterations\n",
    "    max_iter : int – safety limit for Newton iterations\n",
    "    \"\"\"\n",
    "    if N < 2:\n",
    "        raise ValueError(\"N must be at least 2\")\n",
    "    if N == 2:\n",
    "        return np.array([-1., 1.]), np.ones(2)\n",
    "\n",
    "    # Initial guess with Chebyshev–Lobatto nodes\n",
    "    nodes = np.cos(np.pi * np.arange(N - 1, -1, -1) / (N - 1))\n",
    "\n",
    "    # column is the degree of poly and row for inner nodes. P_j(x_i), i=1..N-1\n",
    "    P = np.empty((N - 2, N))\n",
    "    P[:, 0] = 1.0\n",
    "    for _ in range(max_iter):\n",
    "        x_old = nodes[1:-1].copy()\n",
    "\n",
    "        P[:, 0] = 1.0\n",
    "        P[:, 1] = x_old\n",
    "        for k in range(2, N):\n",
    "            P[:, k] = ((2*k - 1) * x_old * P[:, k - 1] -\n",
    "                       (k - 1) * P[:, k - 2]) / k\n",
    "\n",
    "        P_N   = P[:, -1]\n",
    "        P_Nm1 = P[:, -2]\n",
    "        nodes[1:-1] -= (nodes[1:-1] * P_N - P_Nm1) / ((N + 1) * P_N)\n",
    "\n",
    "        if np.max(np.abs(nodes[1:-1] - x_old)) < tol:\n",
    "            break\n",
    "    else:\n",
    "        raise RuntimeError(f\"GLL iteration did not converge in {max_iter} steps\")\n",
    "\n",
    "    if (np.diff(np.sort(nodes)) < 1e-12).any():\n",
    "        raise ValueError(\"Duplicated roots detected in GLL procedure\")\n",
    "\n",
    "    weights = np.empty(N)\n",
    "    weights[1 : -1] = 2.0 / ((N - 1) * N * P_N**2)\n",
    "    weights[0] = weights[-1] = 2 / (N * (N - 1))\n",
    "\n",
    "    return nodes, weights"
   ],
   "metadata": {
    "collapsed": false,
    "pycharm": {
     "name": "#%%\n"
    }
   }
  },
  {
   "cell_type": "markdown",
   "source": [
    "## FEM_1Dgrid class\n",
    "\n",
    "FEM_1Dgrid stores all geometry and quadrature related data needed for one‑dimensional FEM calculations with Lagrange interpolating polynomials (LIPs) defined on GLL nodes. In addition, the class has solvers for single‑particle and two‑particle problems with user-defined external and interparticle potentials.\n",
    "\n",
    "### 1. Global‑matrix assembly options\n",
    "\n",
    "The class supports two strategies for assembling element matrices into global matrices, controlled by the `grid_type` parameter,\n",
    "which can be either `'naive'` or `'real'` according to [HelFEM](https://doi.org/10.1002/qua.25945) (Eq.13).\n",
    "The difference between the two assembly schemes is illustrated in the figure below:\n",
    "\n",
    "![Two implemented ways of global matrices assembling](data/global_matrices_order.jpg)\n",
    "\n",
    "### 2. Coordinate Mapping\n",
    "\n",
    "In addition to the standard linear mesh, the class also provides a logarithmic mesh suitable for Coulomb potentials.\n",
    "This behavior is controlled by the `x_scale_type` parameter, which can be set to `'linear'` or `'log'`.\n",
    "\n",
    "**Linear mesh**\n",
    "Each element has constant Jacobian $J_e$:\n",
    "\n",
    "$$\n",
    "x(\\xi) = \\frac{x_i + x_{i+1}}{2} + \\frac{x_{i+1} - x_i}{2} \\, \\xi,\n",
    "\\qquad\n",
    "J_e = \\frac{dx}{d\\xi} = \\frac{x_{i+1} - x_i}{2}.\n",
    "$$\n",
    "\n",
    "**Logarithmic mesh** – uniform in $u=\\ln x$\n",
    "\n",
    "$$\n",
    "u(\\xi)=\\frac{u_i+u_{i+1}}{2}+\\frac{u_{i+1}-u_i}{2}\\,\\xi,\n",
    "\\qquad\n",
    "x(\\xi)=e^{u(\\xi)},\n",
    "\\qquad\n",
    "J_e(\\xi) = \\frac{dx}{d\\xi}=\\frac{u_{i+1}-u_i}{2}\\,x(\\xi).\n",
    "$$"
   ],
   "metadata": {
    "collapsed": false,
    "pycharm": {
     "name": "#%% md\n"
    }
   }
  },
  {
   "cell_type": "code",
   "execution_count": 46,
   "outputs": [],
   "source": [
    "class FEM_1Dgrid:\n",
    "    def __init__(self, N_elements, degree, xmin, xmax,\n",
    "                 grid_type='real', two_e_method_type='full', x_scale_type='linear'):\n",
    "        \"\"\"\n",
    "        Initializes the grid and parameters for solving the equation FEM.\n",
    "\n",
    "        Parameters:\n",
    "        tol : float - Tolerance for both orthogonality and residual tests.\n",
    "        N_elements : int   - Number of finite elements.\n",
    "        degree     : int   - Degree of LIPs.\n",
    "        xmin, xmax : float - Left and right boundaries.\n",
    "\n",
    "        grid_type  : str   - Grid type for matrix construction.\n",
    "            'naive' – elementwise matrices are used without assembling (Eq. 13),\n",
    "            'real'  – matrices are assembled globally with node identification (Eq. 14).\n",
    "\n",
    "        two_e_method_type : str - Specifying method for calculation of two-electron integrals\n",
    "            'full'  - implementation copied from https://github.com/lnw/1d-experiments\n",
    "            'diag'  - g_diag[i, k] = g4[i,i,j,j]\n",
    "\n",
    "        x_scale_type      : str - Scaling of the x-coordinate ('linear' or 'log').\n",
    "        \"\"\"\n",
    "        self.N_elements        = N_elements\n",
    "        self.degree            = degree\n",
    "        self.N_nodes           = degree + 1\n",
    "        self.grid_type         = grid_type.lower()\n",
    "        self.two_e_method_type = two_e_method_type.lower()\n",
    "        self.x_scale_type      = x_scale_type.lower()\n",
    "\n",
    "        if self.grid_type == 'real':\n",
    "            self.N_points = N_elements * degree + 1\n",
    "        elif self.grid_type == 'naive':\n",
    "            self.N_points = N_elements * self.N_nodes\n",
    "        else:\n",
    "            raise ValueError(\"type_grid must be 'real' or 'naive'\")\n",
    "\n",
    "        if self.x_scale_type == 'linear':\n",
    "            self.elem_borders = np.linspace(xmin, xmax, N_elements + 1)\n",
    "        elif self.x_scale_type == 'log':\n",
    "            if xmin <= 0:\n",
    "                raise ValueError(\"xmin must be positive for scale='log'\")\n",
    "            ln_edges = np.linspace(np.log(xmin), np.log(xmax), N_elements + 1)\n",
    "            self.elem_borders = np.exp(ln_edges)\n",
    "        else:\n",
    "            raise ValueError(\"scale must be 'linear' or 'log'\")\n",
    "\n",
    "        self.xi_nodes, self.w_nodes = GLL_nodes_weights_custom(self.N_nodes, tol=1e-15)\n",
    "\n",
    "        self.build_elements_connectivity()\n",
    "        self.L  = self.local_lagr_vals()\n",
    "        self.dL = self.local_lagr_derivs()"
   ],
   "metadata": {
    "collapsed": false,
    "pycharm": {
     "name": "#%%\n"
    }
   }
  },
  {
   "cell_type": "markdown",
   "source": [
    "### 3. Quadrature matrices prepared by the constructor\n",
    "`x_quad[e,q]` - Global cordinate of node $q$ in element $e$ with shape (Ne, N),\n",
    "\n",
    "`wJ[e,q]` - GLL weights multiplied by Jacobian with shape (Ne, N),\n",
    "\n",
    "`w_over_J[e,q]` - GLL weight devided by Jacobian with shape (Ne, N),\n",
    "\n",
    "`x_global[i]` - global coordinates containing GLL nodes with shape (Np),\n",
    "\n",
    "`w_global[i]` - vector of weights for each global coordinate with shape (Np).\n",
    "\n",
    "*Ne - number of elements, Np - total number of nodes."
   ],
   "metadata": {
    "collapsed": false,
    "pycharm": {
     "name": "#%% md\n"
    }
   }
  },
  {
   "cell_type": "code",
   "execution_count": 47,
   "outputs": [],
   "source": [
    "def build_elements_connectivity(self):\n",
    "    \"\"\" Build all element‑dependent geometric arrays.\n",
    "    x_quad[e, q] – x coordinate in element e,\n",
    "    wJ[e, q]     - quadrature weight (w_q) times J[e],\n",
    "    w_over_J[e, q] = w_q / J_{e,q},\n",
    "    x_global     – 1‑D array with global x coordinates\n",
    "                   (with duplication when grid_type='naive');\n",
    "    w_global[i]    – global integration weights  𝑤_q * J[e,q]\n",
    "    \"\"\"\n",
    "    self.x_global = np.zeros(self.N_points)\n",
    "    self.w_global = np.zeros(self.N_points)\n",
    "    self.x_quad   = np.zeros((self.N_elements, self.N_nodes))\n",
    "    self.wJ       = np.zeros((self.N_elements, self.N_nodes))\n",
    "    self.w_over_J = np.zeros((self.N_elements, self.N_nodes))\n",
    "\n",
    "    for e in range(self.N_elements):\n",
    "        xL, xR = self.elem_borders[e], self.elem_borders[e + 1]\n",
    "\n",
    "        if self.x_scale_type == \"linear\":\n",
    "            # affine map  x = x0 + J_e * xi with constant Jacobian\n",
    "            J_e = 0.5 * (xR - xL)\n",
    "            self.x_quad[e] = 0.5 * (xR + xL) + J_e * self.xi_nodes\n",
    "            self.wJ[e] = self.w_nodes * J_e\n",
    "            self.w_over_J[e] = self.w_nodes / J_e\n",
    "\n",
    "        elif self.x_scale_type == \"log\":\n",
    "            # linear map in u = ln x, then x = exp(u)\n",
    "            uL, uR = np.log(xL), np.log(xR)\n",
    "            Ju = 0.5 * (uR - uL)\n",
    "            u0 = 0.5 * (uR + uL)\n",
    "\n",
    "            u_nodes = u0 + Ju * self.xi_nodes\n",
    "            self.x_quad[e] = np.exp(u_nodes)\n",
    "            J_nodes = Ju * self.x_quad[e]  # dx/dxi at each node\n",
    "            self.wJ[e] = self.w_nodes * J_nodes\n",
    "            self.w_over_J[e] = self.w_nodes / J_nodes\n",
    "        # -------- fill global coordinate array -------------------------\n",
    "        if self.grid_type == \"real\":\n",
    "            idx = slice(e * self.degree, e * self.degree + self.N_nodes)\n",
    "            self.x_global[idx] = self.x_quad[e]\n",
    "            self.w_global[idx] += self.wJ[e]\n",
    "        else:  # 'naive'\n",
    "            idx = slice(e * self.N_nodes, (e + 1) * self.N_nodes)\n",
    "            self.x_global[idx] = self.x_quad[e]\n",
    "            self.w_global[idx] += self.wJ[e]\n",
    "            \n",
    "FEM_1Dgrid.build_elements_connectivity = build_elements_connectivity"
   ],
   "metadata": {
    "collapsed": false,
    "pycharm": {
     "name": "#%%\n"
    }
   }
  },
  {
   "cell_type": "markdown",
   "source": [
    "### 4. Values and derivatives of the nodal Lagrange polynomials\n",
    "\n",
    "For Gauss‑Lobatto nodes $\\xi_q$ the $N$ LIPs $\\chi_i(\\xi)$ are defined by the nodal property\n",
    "\n",
    "$$\n",
    "\\chi_i(\\xi_q)=\\delta_{iq}\\ \\qquad (i,q=0,\\dots,N-1).\n",
    "$$\n",
    "\n",
    "Hence the matrix of values $L_{qi}\\equiv\\chi_i(\\xi_q)$ is the identity matrix $I_{N}$.\n",
    "Derivatives $d\\chi_i/d\\xi$ do not form an identity and must be computed explicitly.\n"
   ],
   "metadata": {
    "collapsed": false,
    "pycharm": {
     "name": "#%% md\n"
    }
   }
  },
  {
   "cell_type": "code",
   "execution_count": 48,
   "outputs": [],
   "source": [
    "def local_lagr_vals(self):\n",
    "    L = np.ones((self.N_nodes, self.N_nodes))\n",
    "    for i in range(self.N_nodes):\n",
    "        for j in range(self.N_nodes):\n",
    "            if i != j:\n",
    "                L[:, i] *= (self.xi_nodes - self.xi_nodes[j]) / \\\n",
    "                           (self.xi_nodes[i] - self.xi_nodes[j])\n",
    "    return L\n",
    "\n",
    "def local_lagr_derivs(self):\n",
    "    dL = np.zeros((self.N_nodes, self.N_nodes))\n",
    "    for i in range(self.N_nodes):\n",
    "        for k in range(self.N_nodes):\n",
    "            if k == i:\n",
    "                continue\n",
    "            term = 1.0 / (self.xi_nodes[i] - self.xi_nodes[k])\n",
    "            for j in range(self.N_nodes):\n",
    "                if j != i and j != k:\n",
    "                    term *= (self.xi_nodes - self.xi_nodes[j]) / \\\n",
    "                            (self.xi_nodes[i] - self.xi_nodes[j])\n",
    "            dL[:, i] += term\n",
    "    return dL\n",
    "\n",
    "FEM_1Dgrid.local_lagr_vals = local_lagr_vals\n",
    "FEM_1Dgrid.local_lagr_derivs = local_lagr_derivs"
   ],
   "metadata": {
    "collapsed": false,
    "pycharm": {
     "name": "#%%\n"
    }
   }
  },
  {
   "cell_type": "markdown",
   "source": [
    "### Calculation of local matrices and assembling global matrices\n",
    "\n",
    "For every element $(e)$ we compute three local matrices $S^{(e)}, T^{(e)}, V^{\\text{ext},(e)}$ with shape $N \\times N$ each. Because the nodal Lagrange functions satisfy $\\chi_i(\\xi_q) \\chi_j(\\xi_q)=\\delta_{iq} \\delta_{jq}$, the matrices take the following form\n",
    "\n",
    "$$\n",
    "\\begin{aligned}\n",
    "S_{ij}^{(e)} &=\n",
    "\\int_{-1}^{1}\\chi_i(\\xi)\\,\\chi_j(\\xi)\\,J^{(e)}(\\xi)\\,d\\xi\n",
    "\\;\\approx\\;\\sum_{q=0}^{N-1} w_q\\,J^{(e)}(\\xi_q)\\,\n",
    "\\chi_i(\\xi_q)\\,\\chi_j(\\xi_q)\n",
    "= w_i\\,J^{(e)}_i\\,\\delta_{ij}\n",
    "\\\\[6pt]\n",
    "T_{ij}^{(e)} &=\n",
    "\\frac{1}{2}\\int_{-1}^{1}\n",
    "\\frac{d\\chi_i}{dx}\\frac{d\\chi_j}{dx}\\,J^{(e)}(\\xi)\\,d\\xi\n",
    "= \\frac{1}{2}\\int_{-1}^{1}\n",
    "\\frac{d\\chi_i}{d\\xi}\\frac{d\\chi_j}{d\\xi}\\frac{1}{J^{(e)}(\\xi)}\\,d\\xi\n",
    "\\;\\approx\\;\\frac{1}{2}\\sum_{q=0}^{N-1}\n",
    "\\frac{w_q}{J^{(e)}_q}\\chi_i'(\\xi_q)\\,\\chi_j'(\\xi_q)\n",
    "\\\\[6pt]\n",
    "V^{\\text{ext},(e)}_{ij} &=\n",
    "\\int_{-1}^{1}\\chi_i(\\xi)\\,\\chi_j(\\xi)\\,V^{\\text{ext}}(x(\\xi))\\,\n",
    "J^{(e)}(\\xi)\\,d\\xi\n",
    "\\;\\approx\\;\\sum_{q=0}^{N-1}\n",
    "w_q\\,J^{(e)}(\\xi_q)\\,V^{\\text{ext}}(x_q)\\,\n",
    "\\chi_i(\\xi_q)\\,\\chi_j(\\xi_q)\n",
    "= w_i\\,J^{(e)}_i\\,V^{\\text{ext}}(x_i)\\,\\delta_{ij}\n",
    "\\end{aligned}\n",
    "$$\n",
    "\n",
    "The local blocks $S^{(e)},T^{(e)},V^{(e)}$ are then inserted into the global matrices according to the chosen assembly strategy ('naive' or 'real').\n"
   ],
   "metadata": {
    "collapsed": false,
    "pycharm": {
     "name": "#%% md\n"
    }
   }
  },
  {
   "cell_type": "code",
   "execution_count": 49,
   "outputs": [],
   "source": [
    "def assemble_global(self, V_ext=None):\n",
    "    \" Assemble_global  (S, T, V). \"\n",
    "    T = np.zeros((self.N_points, self.N_points))\n",
    "    S = np.zeros_like(T)\n",
    "    V = np.zeros_like(T) if V_ext is not None else None\n",
    "\n",
    "    for e in range(self.N_elements):\n",
    "        # local matrices with element‑specific weights\n",
    "        S_loc = self.L.T @ np.diag(self.wJ[e]) @ self.L\n",
    "        T_loc = 0.5 * self.dL.T @ np.diag(self.w_over_J[e]) @ self.dL\n",
    "\n",
    "        # global slice\n",
    "        if self.grid_type == 'real':\n",
    "            if e < self.N_elements - 1:\n",
    "                idx = slice(e * self.degree, e * self.degree + self.N_nodes)\n",
    "            else:\n",
    "                idx = slice(e * self.degree, e * self.degree + self.N_nodes)\n",
    "        else:\n",
    "            idx = slice(e * self.N_nodes,  (e + 1) * self.N_nodes)\n",
    "\n",
    "        S[idx, idx] += S_loc\n",
    "        T[idx, idx] += T_loc\n",
    "\n",
    "        if V_ext is not None:\n",
    "            Vdiag = V_ext(self.x_quad[e]) * self.wJ[e]\n",
    "            V_loc = self.L.T @ np.diag(Vdiag) @ self.L\n",
    "            V[idx, idx] += V_loc\n",
    "\n",
    "    self.S, self.T = S, T\n",
    "    if V_ext is not None:\n",
    "        self.V = V\n",
    "\n",
    "FEM_1Dgrid.assemble_global = assemble_global"
   ],
   "metadata": {
    "collapsed": false,
    "pycharm": {
     "name": "#%%\n"
    }
   }
  },
  {
   "cell_type": "markdown",
   "source": [
    "### Two‑electron integrals\n",
    "\n",
    "With a user‑defined interaction $V^{ee}(|x-x'|)$ the four‑index integral is\n",
    "\n",
    "$$\n",
    "g_{ijkl} = \\iint \\chi_i(x)\\,\\chi_j(x) V^{ee}(|x-x'|) \\chi_k(x')\\,\\chi_l(x')\\,dx\\,dx' \\approx\\ \\sum_{q,q'} w_q w_{q'} V^{ee}(|x_q-x_{q'}|) \\delta_{iq}\\,\\delta_{jq}\\,\\delta_{kq'}\\,\\delta_{lq'} = w_i w_k\\,V^{ee}(|x_i-x_k|)\\,\\delta_{ij}\\,\\delta_{kl}.\n",
    "$$\n",
    "\n",
    "Thus only the diagonal block $g_{ik} \\equiv g_{i i k k}$ is needed."
   ],
   "metadata": {
    "collapsed": false,
    "pycharm": {
     "name": "#%% md\n"
    }
   }
  },
  {
   "cell_type": "code",
   "execution_count": 50,
   "outputs": [],
   "source": [
    "def build_two_e_diag(self, V_ee_func):\n",
    "    \"\"\"\n",
    "    Compute the diagonal two-electron block g[ii,kk]:\n",
    "        g_diag[i, k] = w_i w_k J_e(i) J_e(k) V_ee(|x_i - x_k|)\n",
    "    \"\"\"\n",
    "    X = np.abs(self.x_global[:, None] - self.x_global[None, :])\n",
    "    self.g_diag = np.outer(self.w_global, self.w_global) * V_ee_func(X)\n",
    "\n",
    "FEM_1Dgrid.build_two_e_diag = build_two_e_diag"
   ],
   "metadata": {
    "collapsed": false,
    "pycharm": {
     "name": "#%%\n"
    }
   }
  },
  {
   "cell_type": "markdown",
   "source": [
    "Another implementation of 2e integral is `build_two_e_full` copied from [https://github.com/lnw/1d-experiments](https://github.com/lnw/1d-experiments)) produces the same numerical result as `build_two_e_diag`, but `build_two_e_full` has shape $Np \\times Np \\times Np \\times Np$. The diagonal shortcut is faster and lighter on memory."
   ],
   "metadata": {
    "collapsed": false,
    "pycharm": {
     "name": "#%% md\n"
    }
   }
  },
  {
   "cell_type": "code",
   "execution_count": 51,
   "outputs": [],
   "source": [
    "def build_two_e_full(self, V_ee_func):\n",
    "    \"\"\"\n",
    "    Replica of calc_and_set_4c2e_lip(...) from https://github.com/lnw/1d-experiments.\n",
    "    Computes self.g4 with shape (Np,Np,Np,Np).\n",
    "    The integral is\n",
    "\n",
    "        (mu nu | lambda sigma)\n",
    "          = sum_{k in cell_munu} w_k J_munu  L_kmu L_knu\n",
    "            * sum_{r in cell_lasi} w_r J_lasi\n",
    "                V(|x_k - x_r|) L_rlambda L_rsigma\n",
    "    \"\"\"\n",
    "    munulambdasigma = np.zeros((self.N_elements, self.N_elements,\n",
    "                                self.N_nodes, self.N_nodes, self.N_nodes, self.N_nodes))\n",
    "\n",
    "    #  Loop over the first element cell_munu\n",
    "    for cell_munu in range(self.N_elements):\n",
    "\n",
    "        # buffer: int_lambda_sigma[k, cell_lasi, lam, sig]\n",
    "        buf = np.zeros((self.N_nodes, self.N_elements, self.N_nodes, self.N_nodes))\n",
    "\n",
    "        # inner loop: x1\n",
    "        for k in range(self.N_nodes):\n",
    "            # Global coordinate of node k in element cell_munu\n",
    "            x1 = self.x_quad[cell_munu, k]\n",
    "\n",
    "            # scan all second elements\n",
    "            for cell_lasi in range(self.N_elements ):\n",
    "                for lam in range(self.N_nodes ):\n",
    "                    for sig in range(self.N_nodes ):\n",
    "                        acc = 0.0\n",
    "                        # integrate over x2 (nodes r in cell_lasi)\n",
    "                        for r in range(self.N_nodes ):\n",
    "                            x2 = self.x_quad[cell_lasi, r]\n",
    "                            r12 = abs(x1 - x2)\n",
    "\n",
    "                            acc += (self.wJ[cell_lasi, r] *\n",
    "                                    V_ee_func(r12) *\n",
    "                                    self.L[r, lam] * self.L[r, sig])\n",
    "                        buf[k, cell_lasi, lam, sig] = acc\n",
    "\n",
    "        # outer contraction over x1\n",
    "        for cell_lasi in range(self.N_elements):\n",
    "            for mu in range(self.N_nodes):\n",
    "                for nu in range(self.N_nodes):\n",
    "                    for lam in range(self.N_nodes):\n",
    "                        for sig in range(self.N_nodes):\n",
    "                            acc = 0.0\n",
    "                            for k in range(self.N_nodes):\n",
    "                                acc += (self.wJ[cell_munu, k] *\n",
    "                                        buf[k, cell_lasi, lam, sig] *\n",
    "                                        self.L[k, mu] * self.L[k, nu])\n",
    "                            munulambdasigma[cell_munu, cell_lasi, mu, nu, lam, sig] = acc\n",
    "\n",
    "    #  Convert to global tensor shape (Npoints,Npoints,Npoints,Npoints)\n",
    "    self.g4 = np.zeros((self.N_points, self.N_points,\n",
    "                        self.N_points, self.N_points))\n",
    "\n",
    "    def elem_slice(e):\n",
    "        \"\"\"Return global‑node slice for element e.\"\"\"\n",
    "        if self.grid_type == 'real':\n",
    "            return slice(e * self.degree, e * self.degree + self.N_nodes)\n",
    "        elif self.grid_type == 'naive':\n",
    "            return slice(e * self.N_nodes, (e + 1) * self.N_nodes)\n",
    "\n",
    "    for cell_munu in range(self.N_elements):\n",
    "        sl_mu = elem_slice(cell_munu)\n",
    "        for cell_lasi in range(self.N_elements):\n",
    "            sl_la = elem_slice(cell_lasi)\n",
    "            block = munulambdasigma[cell_munu, cell_lasi]\n",
    "\n",
    "            # accumulate – required if boundary nodes overlap\n",
    "            self.g4[sl_mu, sl_mu, sl_la, sl_la] += block\n",
    "\n",
    "FEM_1Dgrid.build_two_e_full = build_two_e_full"
   ],
   "metadata": {
    "collapsed": false,
    "pycharm": {
     "name": "#%%\n"
    }
   }
  },
  {
   "cell_type": "markdown",
   "source": [
    "Next method `apply_boundaries` enforces the boundary conditions by deleting the first and last rows and columns."
   ],
   "metadata": {
    "collapsed": false,
    "pycharm": {
     "name": "#%% md\n"
    }
   }
  },
  {
   "cell_type": "code",
   "execution_count": 52,
   "outputs": [],
   "source": [
    "def apply_boundaries(self):\n",
    "    \"Removes first and last columns and rows.\"\n",
    "    keep = slice(1, self.N_points - 1)\n",
    "    self.T = self.T[keep, keep]\n",
    "    self.S = self.S[keep, keep]\n",
    "    if hasattr(self, 'V'):\n",
    "        self.V = self.V[keep, keep]\n",
    "    if hasattr(self, 'g_diag'):\n",
    "        self.g_diag = self.g_diag[keep, keep]\n",
    "    if hasattr(self, 'g4'):\n",
    "        self.g4 = self.g4[keep, keep, :, :]\n",
    "        self.g4 = self.g4[:, :, keep, keep]\n",
    "\n",
    "FEM_1Dgrid.apply_boundaries = apply_boundaries"
   ],
   "metadata": {
    "collapsed": false,
    "pycharm": {
     "name": "#%%\n"
    }
   }
  },
  {
   "cell_type": "markdown",
   "source": [
    "### Function for diagonalization of the single‑particle Hamiltonian\n",
    "Eigenvectors are normalised on demand."
   ],
   "metadata": {
    "collapsed": false,
    "pycharm": {
     "name": "#%% md\n"
    }
   }
  },
  {
   "cell_type": "code",
   "execution_count": 53,
   "outputs": [],
   "source": [
    "import scipy.linalg as la\n",
    "\n",
    "def solve(self, V_ext, norm_flag=True):\n",
    "    self.assemble_global(V_ext)\n",
    "    self.apply_boundaries()\n",
    "\n",
    "    H = self.T + (self.V if hasattr(self, 'V') else 0)\n",
    "    E, C = la.eigh(H, self.S)\n",
    "    self.E = E\n",
    "    if norm_flag:\n",
    "        SC = self.S @ C\n",
    "        norms = np.sqrt(np.sum(C * SC, axis=0))\n",
    "\n",
    "        # avoid division by zero\n",
    "        norms[norms == 0.0] = 1.0\n",
    "        C /= norms\n",
    "    self.C = C\n",
    "\n",
    "FEM_1Dgrid.solve = solve"
   ],
   "metadata": {
    "collapsed": false,
    "pycharm": {
     "name": "#%%\n"
    }
   }
  },
  {
   "cell_type": "markdown",
   "source": [
    "### RHF self‑consistent field procedure (`scf_rhf`)\n",
    "Steps of calculation:\n",
    "1. **Core integrals**\n",
    "   $H_{\\text{core}} = T + V,\\qquad S_{ij}=\\langle\\chi_i|\\chi_j\\rangle$.\n",
    "\n",
    "2. **Two‑electron integrals** according to `two_e_method_type` flag.\n",
    "3. **Orthogonalisation**\n",
    "   Solve $USU^{\\mathrm T}=s$; set $X = U\\,\\text{diag}(s^{-1/2})\\,U^{\\mathrm T}$.\n",
    "\n",
    "4. **SCF loop**\n",
    "\n",
    "   * Density: $P_{ij}=2\\sum_{p\\in\\text{occ}} C_{ip}C_{jp}$.\n",
    "   * Coulomb/Exchange\n",
    "     $J_{ij}= \\sum_{kl} g_{ij,kl}P_{kl},\\;\n",
    "       K_{ij}= \\sum_{kl} g_{ik,lj}P_{kl}$\n",
    "     (diagonal shortcuts when requested).\n",
    "   * Fock: $F = H_{\\text{core}} + J - \\tfrac12 K$.\n",
    "   * Energy $E_{\\text{tot}} = \\operatorname{Tr}[PH_{\\text{core}}] + \\tfrac12\\operatorname{Tr}[PJ] - \\tfrac14\\operatorname{Tr}[PK].$\n",
    "\n",
    "   Iterate until $|\\Delta E_{\\text{tot}}|$ and norm of $\\Delta P$ drop below `conv`.\n",
    "\n",
    "5. **Stored results**\n",
    "   eigenvalues `self.E`, orbitals `self.C`, density `self.P`, total energy `self.E_tot`."
   ],
   "metadata": {
    "collapsed": false,
    "pycharm": {
     "name": "#%% md\n"
    }
   }
  },
  {
   "cell_type": "code",
   "execution_count": 54,
   "outputs": [],
   "source": [
    "def scf_rhf(self, V_ext_func, V_ee_func, occ_idx_list,\n",
    "            max_iter=100, conv=1e-8, verbose=True):\n",
    "    \"\"\"\n",
    "    RHF\n",
    "\n",
    "    V_ext_func : callable - External one‑electron potential V(x).\n",
    "    V_ee_func : callable -  Two‑electron interaction V_ee(|x1‑x2|).\n",
    "    occ_idx_list : list[int] - Indices of doubly occupied orbitals, origin from 0.\n",
    "    max_iter : int - Maximum SCF iterations.\n",
    "    conv : float - Convergence threshold for dE and dP_norm.\n",
    "    verbose : bool - If True, print iteration log.\n",
    "    \"\"\"\n",
    "    # build core matrices\n",
    "    self.assemble_global(V_ext_func)\n",
    "    if self.two_e_method_type == 'diag':\n",
    "        self.build_two_e_diag(V_ee_func)\n",
    "    elif self.two_e_method_type == 'full':\n",
    "        self.build_two_e_full(V_ee_func)\n",
    "\n",
    "    self.apply_boundaries()\n",
    "\n",
    "    H_core = self.T + self.V\n",
    "\n",
    "    # for orthogonalization\n",
    "    s, U = la.eigh(self.S)\n",
    "    X = U @ np.diag(1 / np.sqrt(s)) @ U.T\n",
    "\n",
    "    # initial guess\n",
    "    F = H_core.copy()\n",
    "    eps, C2 = la.eigh(X.T @ F @ X)\n",
    "    C = X @ C2\n",
    "\n",
    "    # initial density\n",
    "    P = sum(2 * np.outer(C[:, i], C[:, i]) for i in occ_idx_list)\n",
    "    E_prev = np.inf\n",
    "\n",
    "    for it in range(1, max_iter + 1):\n",
    "        # build J and K\n",
    "        if self.two_e_method_type == 'diag':\n",
    "            rho_vec = np.diag(P)\n",
    "            J = np.diag(self.g_diag @ rho_vec)\n",
    "            K = self.g_diag * P\n",
    "        else:\n",
    "            J = np.einsum('ijkl,kl->ij', self.g4, P)\n",
    "            K = np.einsum('ikjl,kl->ij', self.g4, P)\n",
    "\n",
    "        F = H_core + J - 0.5 * K\n",
    "        eps, C2 = la.eigh(X.T @ F @ X)\n",
    "        C = X @ C2\n",
    "        P_new = sum(2 * np.outer(C[:, i], C[:, i]) for i in occ_idx_list)\n",
    "\n",
    "        # energies\n",
    "        E_one = np.sum(P_new * H_core)\n",
    "        E_coul = 0.5 * np.sum(P_new * J)\n",
    "        E_exch = -0.25 * np.sum(P_new * K)\n",
    "        E_tot = E_one + E_coul + E_exch\n",
    "\n",
    "        dE = E_tot - E_prev\n",
    "        dP = np.linalg.norm(P_new - P) / np.sqrt(P.size)\n",
    "\n",
    "        if verbose:\n",
    "            print(f\"iter {it:3d}:  E = {E_tot:+.12f}  dE = {dE:+.2e}  dP_norm = {dP:.2e}\")\n",
    "\n",
    "        if abs(dE) < conv and dP < conv:\n",
    "            if verbose:\n",
    "                print(\"SCF converged.\")\n",
    "            break\n",
    "\n",
    "        P = P_new\n",
    "        E_prev = E_tot\n",
    "    else:\n",
    "        raise RuntimeError(\"SCF did not converge\")\n",
    "\n",
    "    # store results\n",
    "    self.E = eps\n",
    "    self.C = C\n",
    "    self.E_tot = E_tot\n",
    "    \n",
    "FEM_1Dgrid.scf_rhf = scf_rhf"
   ],
   "metadata": {
    "collapsed": false,
    "pycharm": {
     "name": "#%%\n"
    }
   }
  },
  {
   "cell_type": "markdown",
   "source": [
    "### Function to make plots"
   ],
   "metadata": {
    "collapsed": false,
    "pycharm": {
     "name": "#%% md\n"
    }
   }
  },
  {
   "cell_type": "code",
   "execution_count": 55,
   "outputs": [],
   "source": [
    "from matplotlib import cm\n",
    "import matplotlib.pyplot as plt\n",
    "from ipywidgets import interact, IntSlider\n",
    "\n",
    "def plot_wavefunction_interactive(self, n=1, log_scale=False,\n",
    "                                  V_func=None, analyt_func=None, n_origin=0):\n",
    "    fig, (ax_wf, ax_rho) = plt.subplots(2, 1, sharex=True,\n",
    "                                        figsize=(7, 5), constrained_layout=True)\n",
    "    X = np.log(self.x_global) if log_scale else self.x_global\n",
    "#     colour = cm.get_cmap('tab10')(0)\n",
    "    colour = plt.colormaps['tab10'](0)\n",
    "\n",
    "    # numeric (alpha)\n",
    "    psi = np.zeros(self.N_points)\n",
    "    psi[1:-1] = self.C[:, n - n_origin]\n",
    "    ax_wf.plot(X, psi, \"-\", color=colour, lw=1.5,\n",
    "               label=f\"numeric  n={n},  E={self.E[n - n_origin]:.4f}\")\n",
    "    ax_rho.plot(X, psi**2, \"-\", color=colour, alpha=0.8)\n",
    "\n",
    "    # analytic\n",
    "    if analyt_func is not None:\n",
    "        ana = analyt_func(self.x_global, n)\n",
    "        ax_wf.plot(X, ana, \":\", color='crimson', lw=1.2, label=\"analytic\")\n",
    "        ax_rho.plot(X, ana**2, \":\", color='crimson', alpha=0.7)\n",
    "\n",
    "    # optional potential\n",
    "    if V_func is not None:\n",
    "        for ax in (ax_wf, ax_rho):\n",
    "            axV = ax.twinx()\n",
    "            axV.plot(X, V_func(self.x_global), \"--\", lw=1.0, color=\"grey\")\n",
    "            axV.set_ylabel(\"V(x)\", color=\"grey\")\n",
    "            axV.tick_params(axis='y', labelcolor=\"grey\")\n",
    "\n",
    "    ax_wf.set_ylabel(r\"Psi(x)\")\n",
    "    ax_rho.set_ylabel(\"Density\")\n",
    "    ax_rho.set_xlabel(\"log x\" if log_scale else \"x\")\n",
    "    ax_wf.legend()\n",
    "    plt.show()\n",
    "    \n",
    "FEM_1Dgrid.plot_wavefunction_interactive = plot_wavefunction_interactive"
   ],
   "metadata": {
    "collapsed": false,
    "pycharm": {
     "name": "#%%\n"
    }
   }
  },
  {
   "cell_type": "markdown",
   "source": [
    "# One particle tests\n",
    "## One particle in a harmonic potential\n",
    "The problem can be solved accurately only with `grid_type`=`real`; for `grid_type`=`naive` the solver is failing."
   ],
   "metadata": {
    "collapsed": false,
    "pycharm": {
     "name": "#%% md\n"
    }
   }
  },
  {
   "cell_type": "code",
   "execution_count": 56,
   "outputs": [
    {
     "name": "stdout",
     "output_type": "stream",
     "text": [
      "n=0 E_num= 5.0000e-01 E_harm= 5.0000e-01 delta=-1.1154e-11\n",
      "n=1 E_num= 1.5000e+00 E_harm= 1.5000e+00 delta=-9.8141e-11\n",
      "n=2 E_num= 2.5000e+00 E_harm= 2.5000e+00 delta=-4.4516e-10\n",
      "n=3 E_num= 3.5000e+00 E_harm= 3.5000e+00 delta=-1.4000e-09\n",
      "n=4 E_num= 4.5000e+00 E_harm= 4.5000e+00 delta=-3.4832e-09\n",
      "n=5 E_num= 5.5000e+00 E_harm= 5.5000e+00 delta=-7.3897e-09\n",
      "n=6 E_num= 6.5000e+00 E_harm= 6.5000e+00 delta=-1.3987e-08\n",
      "n=7 E_num= 7.5000e+00 E_harm= 7.5000e+00 delta=-2.4317e-08\n",
      "n=8 E_num= 8.5000e+00 E_harm= 8.5000e+00 delta=-3.9595e-08\n",
      "n=9 E_num= 9.5000e+00 E_harm= 9.5000e+00 delta=-6.1210e-08\n"
     ]
    }
   ],
   "source": [
    "from scipy.special import hermite, factorial\n",
    "\n",
    "V_harm = lambda x: 0.5 * x**2\n",
    "\n",
    "grid = FEM_1Dgrid(N_elements=200, degree=3, xmin=-10, xmax=10, grid_type='real')\n",
    "grid.solve(V_harm)\n",
    "for n in range(10):\n",
    "    print(f\"n={n} E_num={grid.E[n]: 6.4e} E_harm={0.5 + n : 6.4e} delta={grid.E[n] - (0.5 + n): 6.4e}\")"
   ],
   "metadata": {
    "collapsed": false,
    "pycharm": {
     "name": "#%%\n"
    }
   }
  },
  {
   "cell_type": "code",
   "execution_count": 57,
   "outputs": [
    {
     "data": {
      "text/plain": "interactive(children=(IntSlider(value=1, description='n', max=10), Output()), _dom_classes=('widget-interact',…",
      "application/vnd.jupyter.widget-view+json": {
       "version_major": 2,
       "version_minor": 0,
       "model_id": "3ffed77085644272af667d23f2253c8d"
      }
     },
     "metadata": {},
     "output_type": "display_data"
    },
    {
     "data": {
      "text/plain": "<function __main__.<lambda>(n)>"
     },
     "execution_count": 57,
     "metadata": {},
     "output_type": "execute_result"
    }
   ],
   "source": [
    "Psi_harmonic = lambda x, n: 1.0 / np.sqrt((2**n) * factorial(n) * np.sqrt(np.pi)) * hermite(n)(x) * np.exp(-0.5 * x**2)\n",
    "interact(lambda n: grid.plot_wavefunction_interactive(\n",
    "        n=n,\n",
    "        V_func=V_harm,\n",
    "        analyt_func=Psi_harmonic,\n",
    "        log_scale=False,\n",
    "        ),\n",
    "        n=IntSlider(min=0, max=10, step=1, value=1, description='n'))\n"
   ],
   "metadata": {
    "collapsed": false,
    "pycharm": {
     "name": "#%%\n"
    }
   }
  },
  {
   "cell_type": "markdown",
   "source": [
    "## One particle in a Coulomb potential  \n",
    "\n",
    "We check the logarithmic grid by solving the 1‑D Coulomb problem.\n",
    "The results are not as accurate as expected; this could mean there is a bug in the code or that we need finer grid settings."
   ],
   "metadata": {
    "collapsed": false,
    "pycharm": {
     "name": "#%% md\n"
    }
   }
  },
  {
   "cell_type": "code",
   "execution_count": 60,
   "outputs": [
    {
     "name": "stdout",
     "output_type": "stream",
     "text": [
      "n=1 E_num=-4.9998e-01 E_coul=-5.0000e-01 delta= 2.1833e-05\n",
      "n=2 E_num=-1.2499e-01 E_coul=-1.2500e-01 delta= 6.6915e-06\n",
      "n=3 E_num=-5.5547e-02 E_coul=-5.5556e-02 delta= 8.1806e-06\n",
      "n=4 E_num=-3.1240e-02 E_coul=-3.1250e-02 delta= 1.0273e-05\n",
      "n=5 E_num=-1.9985e-02 E_coul=-2.0000e-02 delta= 1.4785e-05\n",
      "n=6 E_num=-1.1328e-02 E_coul=-1.3889e-02 delta= 2.5612e-03\n",
      "n=7 E_num=-9.5345e-03 E_coul=-1.0204e-02 delta= 6.6956e-04\n",
      "n=8 E_num=-8.5758e-03 E_coul=-7.8125e-03 delta=-7.6325e-04\n",
      "n=9 E_num=-6.7291e-03 E_coul=-6.1728e-03 delta=-5.5626e-04\n"
     ]
    }
   ],
   "source": [
    "Z = 1.0\n",
    "V_coul = lambda x: -Z / np.abs(x)\n",
    "E_coul = lambda n: -0.5 * (Z / n)**2\n",
    "\n",
    "\n",
    "grid = FEM_1Dgrid(N_elements=100, degree=2, xmin=1e-05, xmax=200,\n",
    "                  grid_type='real', x_scale_type='log')\n",
    "grid.solve(V_coul, norm_flag=True)\n",
    "\n",
    "for n in range(1, 10):\n",
    "    print(f\"n={n} E_num={grid.E[n - 1]: 6.4e} E_coul={E_coul(n): 6.4e} delta={grid.E[n - 1] - E_coul(n): 6.4e}\")"
   ],
   "metadata": {
    "collapsed": false,
    "pycharm": {
     "name": "#%%\n"
    }
   }
  },
  {
   "cell_type": "code",
   "execution_count": 61,
   "outputs": [
    {
     "data": {
      "text/plain": "interactive(children=(IntSlider(value=1, description='n', max=10, min=1), Output()), _dom_classes=('widget-int…",
      "application/vnd.jupyter.widget-view+json": {
       "version_major": 2,
       "version_minor": 0,
       "model_id": "aad91dde6f6348d1a5df17c0e5ecf59f"
      }
     },
     "metadata": {},
     "output_type": "display_data"
    },
    {
     "data": {
      "text/plain": "<function __main__.<lambda>(n)>"
     },
     "execution_count": 61,
     "metadata": {},
     "output_type": "execute_result"
    }
   ],
   "source": [
    "from scipy.special import genlaguerre\n",
    "\n",
    "def R_nl(r, n, l=0, Z=1.0):\n",
    "    rho = 2 * Z * r / n\n",
    "    coeff = np.sqrt((2 * Z / n)**3 * factorial(n - l - 1) / (2 * n * factorial(n + l)))\n",
    "    L = genlaguerre(n - l - 1, 2 * l + 1)\n",
    "    return coeff * rho**l * np.exp(-rho / 2) * L(rho) * r\n",
    "\n",
    "interact(lambda n: grid.plot_wavefunction_interactive(\n",
    "        n=n,\n",
    "        V_func=V_coul,\n",
    "        analyt_func=R_nl,\n",
    "        log_scale=True,\n",
    "        n_origin=1),\n",
    "        n=IntSlider(min=1, max=10, step=1, value=1, description='n'))"
   ],
   "metadata": {
    "collapsed": false,
    "pycharm": {
     "name": "#%%\n"
    }
   }
  },
  {
   "cell_type": "markdown",
   "source": [
    "## Two particles problems\n",
    "To reproduce results obtained with [https://github.com/lnw/1d-experiments](https://github.com/lnw/1d-experiments), the following potentials are used\n",
    "\n",
    "$$\n",
    "\\begin{aligned}\n",
    "V^{\\text{ext}} &= \\frac{1}{2} x^2 - 100;    V^{\\text{ee}}  &= \\exp(-0.15 x^2)\n",
    "\\end{aligned}\n",
    "$$\n"
   ],
   "metadata": {
    "collapsed": false,
    "pycharm": {
     "name": "#%% md\n"
    }
   }
  },
  {
   "cell_type": "code",
   "execution_count": 62,
   "outputs": [
    {
     "name": "stdout",
     "output_type": "stream",
     "text": [
      "iter   1:  E = -198.123348305279  dE = -inf  dP_norm = 4.08e-03\n",
      "iter   2:  E = -198.127297444427  dE = -3.95e-03  dP_norm = 1.03e-03\n",
      "iter   3:  E = -198.128175032082  dE = -8.78e-04  dP_norm = 2.63e-04\n",
      "iter   4:  E = -198.128389638061  dE = -2.15e-04  dP_norm = 6.72e-05\n",
      "iter   5:  E = -198.128443806994  dE = -5.42e-05  dP_norm = 1.72e-05\n",
      "iter   6:  E = -198.128457615974  dE = -1.38e-05  dP_norm = 4.41e-06\n",
      "iter   7:  E = -198.128461147774  dE = -3.53e-06  dP_norm = 1.13e-06\n",
      "iter   8:  E = -198.128462052164  dE = -9.04e-07  dP_norm = 2.89e-07\n",
      "iter   9:  E = -198.128462283868  dE = -2.32e-07  dP_norm = 7.41e-08\n",
      "iter  10:  E = -198.128462343245  dE = -5.94e-08  dP_norm = 1.90e-08\n",
      "iter  11:  E = -198.128462358462  dE = -1.52e-08  dP_norm = 4.87e-09\n",
      "iter  12:  E = -198.128462362362  dE = -3.90e-09  dP_norm = 1.25e-09\n",
      "SCF converged.\n",
      "HF energy = -198.12846236236234\n"
     ]
    }
   ],
   "source": [
    "V_ext = lambda x: 0.5 * x**2 - 100.0\n",
    "V_ee  = lambda x, a=0.15: np.exp(-a * x**2)\n",
    "\n",
    "grid = FEM_1Dgrid(N_elements=100, degree=2, xmin=-10, xmax=10,\n",
    "                  grid_type='real', x_scale_type='linear', two_e_method_type='diag')\n",
    "\n",
    "occ_idces = [0]          # doubly‑occupied orbital indices (starting from 0)\n",
    "grid.scf_rhf(V_ext_func=V_ext,\n",
    "             V_ee_func = V_ee,\n",
    "             occ_idx_list = occ_idces,\n",
    "             max_iter = 100,\n",
    "             verbose = True)\n",
    "print(\"HF energy =\", grid.E_tot)"
   ],
   "metadata": {
    "collapsed": false,
    "pycharm": {
     "name": "#%%\n"
    }
   }
  },
  {
   "cell_type": "markdown",
   "source": [
    "Output from  [https://github.com/lnw/1d-experiments](https://github.com/lnw/1d-experiments) with the same input:\n",
    "```\n",
    "./ho-1d 100 0.2 20 3 1.\n",
    "```\n",
    "\n",
    "The output:\n",
    "```\n",
    "system: n cells: 100\n",
    "cell width: 0.2\n",
    "lower boundary: -10\n",
    "functions per cell: 3\n",
    "overlapping: 1\n",
    "\n",
    "grid: {{-0.1, 0, 0.1}, {0.033333..., 0.133333..., 0.033333...}}\n",
    "grid fine: {{-0.1, -0.044721..., 0.044721..., 0.1}, {0.016666..., 0.083333..., 0.083333..., 0.016666...}}\n",
    "...\n",
    "HF energy:         -198.128458\n",
    "xci energy:        -198.1351807\n",
    "correlation energy:  -0.00672278\n",
    "SCI (aka HF):      -198.128458\n",
    "DCI:               -198.1351257\n",
    "SDCI:              -198.1351807\n",
    "````\n",
    "\n",
    "**Comparison with the Python FEM implementation**\n",
    "\n",
    "* HF energy (C++ reference) : **−198.128 458** Ha\n",
    "* HF energy (our code)     : **−198.128 462 362 Ha**\n",
    "\n",
    "The two values differ by only ≈ 4 × 10⁻⁶ Ha.\n",
    "A small residual deviation is likely due to the fact that the C++ program two types of mesh—`grid` and `grid_fine`, whereas the current Python script uses only one grid, but I'm not sure."
   ],
   "metadata": {
    "collapsed": false,
    "pycharm": {
     "name": "#%% md\n"
    }
   }
  },
  {
   "cell_type": "code",
   "execution_count": 63,
   "outputs": [
    {
     "data": {
      "text/plain": "interactive(children=(IntSlider(value=1, description='n', max=10, min=1), Output()), _dom_classes=('widget-int…",
      "application/vnd.jupyter.widget-view+json": {
       "version_major": 2,
       "version_minor": 0,
       "model_id": "a766e600d9c442e59a8fec59240ce3bc"
      }
     },
     "metadata": {},
     "output_type": "display_data"
    },
    {
     "data": {
      "text/plain": "<function __main__.<lambda>(n)>"
     },
     "execution_count": 63,
     "metadata": {},
     "output_type": "execute_result"
    }
   ],
   "source": [
    "interact(lambda n: grid.plot_wavefunction_interactive(\n",
    "        n=n,\n",
    "        V_func=V_ext,\n",
    "        n_origin=1),\n",
    "        n=IntSlider(min=1, max=10, step=1, value=1, description='n'))"
   ],
   "metadata": {
    "collapsed": false,
    "pycharm": {
     "name": "#%%\n"
    }
   }
  },
  {
   "cell_type": "markdown",
   "source": [
    "### Helium atom\n",
    "\n",
    "With the Coulomb electron-electron interaction the SCF cycle does not converge:\n",
    "the two-electron integral matrix haas infinite diagonal elements, and I currently do not know how to continue.\n",
    "\n",
    "For now the calculation is carried out with the **soft-Coulomb** electron-electron potentail:\n",
    "\n",
    "$$\n",
    "V^{\\text{ext}}(x)= -\\frac{Z}{x}, \\qquad\n",
    "V^{\\text{ee}}(x)=\\frac{1}{\\sqrt{x^{2}+a^{2}}}\\; .\n",
    "$$\n",
    "\n",
    "Minimal value of $a$ at which the calculation converges $a = 0.5$."
   ],
   "metadata": {
    "collapsed": false,
    "pycharm": {
     "name": "#%% md\n"
    }
   }
  },
  {
   "cell_type": "code",
   "execution_count": 65,
   "outputs": [
    {
     "name": "stdout",
     "output_type": "stream",
     "text": [
      "iter   1:  E = -2.482774827159  dE = -inf  dP_norm = 2.24e-02\n",
      "iter   2:  E = -2.518993616274  dE = -3.62e-02  dP_norm = 5.36e-03\n",
      "iter   3:  E = -2.527877300797  dE = -8.88e-03  dP_norm = 1.16e-03\n",
      "iter   4:  E = -2.529900811908  dE = -2.02e-03  dP_norm = 2.81e-04\n",
      "iter   5:  E = -2.530381961665  dE = -4.81e-04  dP_norm = 7.61e-05\n",
      "iter   6:  E = -2.530504975272  dE = -1.23e-04  dP_norm = 2.20e-05\n",
      "iter   7:  E = -2.530538423555  dE = -3.34e-05  dP_norm = 6.59e-06\n",
      "iter   8:  E = -2.530547925328  dE = -9.50e-06  dP_norm = 2.01e-06\n",
      "iter   9:  E = -2.530550704956  dE = -2.78e-06  dP_norm = 6.18e-07\n",
      "iter  10:  E = -2.530551534115  dE = -8.29e-07  dP_norm = 1.91e-07\n",
      "iter  11:  E = -2.530551784709  dE = -2.51e-07  dP_norm = 5.92e-08\n",
      "iter  12:  E = -2.530551861124  dE = -7.64e-08  dP_norm = 1.84e-08\n",
      "iter  13:  E = -2.530551884570  dE = -2.34e-08  dP_norm = 5.71e-09\n",
      "iter  14:  E = -2.530551891795  dE = -7.23e-09  dP_norm = 1.78e-09\n",
      "SCF converged.\n",
      "HF energy = -2.5305518917949783\n"
     ]
    }
   ],
   "source": [
    "V_ext = lambda x, Z=2.0: -Z / np.abs(x)\n",
    "V_ee  = lambda r, a=0.5: 1.0 / np.sqrt(r**2 + a**2)\n",
    "\n",
    "grid = FEM_1Dgrid(N_elements=100, degree=2, xmin=1e-5, xmax=300,\n",
    "                  grid_type='real', x_scale_type='log', two_e_method_type='diag')\n",
    "\n",
    "occ_idces = [0]\n",
    "grid.scf_rhf(V_ext_func=V_ext, V_ee_func=V_ee, occ_idx_list=occ_idces, max_iter=100, verbose=True)\n",
    "print(\"HF energy =\", grid.E_tot)"
   ],
   "metadata": {
    "collapsed": false,
    "pycharm": {
     "name": "#%%\n"
    }
   }
  },
  {
   "cell_type": "markdown",
   "source": [
    "At the **RHF/aug‑cc‑pVQZ** level the reference total energy of He is **−2.861 521 995 63 Ha**, whereas our 1‑D Python model with the soft‑Coulomb parameter $a = 0.5$ yields **−2.530 352 327 207 283 Ha**."
   ],
   "metadata": {
    "collapsed": false,
    "pycharm": {
     "name": "#%% md\n"
    }
   }
  },
  {
   "cell_type": "code",
   "execution_count": 66,
   "outputs": [
    {
     "data": {
      "text/plain": "interactive(children=(IntSlider(value=1, description='n', max=10, min=1), Output()), _dom_classes=('widget-int…",
      "application/vnd.jupyter.widget-view+json": {
       "version_major": 2,
       "version_minor": 0,
       "model_id": "2601b15d6bf74956ae02fdf53857f8a4"
      }
     },
     "metadata": {},
     "output_type": "display_data"
    },
    {
     "data": {
      "text/plain": "<function __main__.<lambda>(n)>"
     },
     "execution_count": 66,
     "metadata": {},
     "output_type": "execute_result"
    }
   ],
   "source": [
    "interact(lambda n: grid.plot_wavefunction_interactive(\n",
    "        n=n,\n",
    "        V_func=V_ext,\n",
    "        n_origin=1,\n",
    "        log_scale=True,\n",
    "        ),\n",
    "        n=IntSlider(min=1, max=10, step=1, value=1, description='n'))"
   ],
   "metadata": {
    "collapsed": false,
    "pycharm": {
     "name": "#%%\n"
    }
   }
  }
 ],
 "metadata": {
  "kernelspec": {
   "display_name": "Python 3 (ipykernel)",
   "language": "python",
   "name": "python3"
  },
  "language_info": {
   "codemirror_mode": {
    "name": "ipython",
    "version": 3
   },
   "file_extension": ".py",
   "mimetype": "text/x-python",
   "name": "python",
   "nbconvert_exporter": "python",
   "pygments_lexer": "ipython3",
   "version": "3.11.3"
  }
 },
 "nbformat": 4,
 "nbformat_minor": 1
}